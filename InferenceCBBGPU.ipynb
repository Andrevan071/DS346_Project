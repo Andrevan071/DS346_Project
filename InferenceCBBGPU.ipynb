{
  "nbformat": 4,
  "nbformat_minor": 0,
  "metadata": {
    "colab": {
      "provenance": [],
      "gpuType": "T4"
    },
    "kernelspec": {
      "name": "python3",
      "display_name": "Python 3"
    },
    "language_info": {
      "name": "python"
    },
    "accelerator": "GPU"
  },
  "cells": [
    {
      "cell_type": "markdown",
      "source": [
        "# Inference From Downloaded/Oploaded Model"
      ],
      "metadata": {
        "id": "t47gIV4Uj502"
      }
    },
    {
      "cell_type": "markdown",
      "source": [
        "Upload the file_name.zip of the lora model"
      ],
      "metadata": {
        "id": "TtQRGqdTkAP-"
      }
    },
    {
      "cell_type": "code",
      "source": [
        "filename = \"\""
      ],
      "metadata": {
        "id": "uV3poHVvkGou"
      },
      "execution_count": null,
      "outputs": []
    },
    {
      "cell_type": "code",
      "execution_count": null,
      "metadata": {
        "id": "v5yuO82CjXVx"
      },
      "outputs": [],
      "source": [
        "!unzip {filename}.zip"
      ]
    },
    {
      "cell_type": "code",
      "source": [
        "from unsloth import FastLanguageModel\n",
        "from transformers import AutoTokenizer\n",
        "\n",
        "# Load the model and tokenizer from the unzipped folder\n",
        "model_name = \"lora_model\"  # Folder created after unzipping\n",
        "model, tokenizer = FastLanguageModel.from_pretrained(model_name)\n"
      ],
      "metadata": {
        "id": "oPHRR2SXkpuX"
      },
      "execution_count": null,
      "outputs": []
    },
    {
      "cell_type": "code",
      "source": [
        "FastLanguageModel.for_inference(model)  # Enable optimized inference mode\n",
        "\n",
        "print(\"Model and tokenizer loaded successfully.\")"
      ],
      "metadata": {
        "id": "Dzi3IpIHksim"
      },
      "execution_count": null,
      "outputs": []
    },
    {
      "cell_type": "markdown",
      "source": [
        "## Perform Model Inference"
      ],
      "metadata": {
        "id": "PxpIGytflFT7"
      }
    },
    {
      "cell_type": "code",
      "source": [
        "prompt = \"What is the difference between data science and data engineering?\""
      ],
      "metadata": {
        "id": "mw9Eq2cClN8O"
      },
      "execution_count": null,
      "outputs": []
    },
    {
      "cell_type": "code",
      "source": [
        "# Format the input as messages for the LLaMA model\n",
        "messages = [\n",
        "    {\"role\": \"user\", \"content\": prompt},\n",
        "]\n",
        "\n",
        "# Apply the chat template and tokenize the input, returning it as a tensor\n",
        "inputs = tokenizer.apply_chat_template(\n",
        "    messages,\n",
        "    tokenize=True,\n",
        "    add_generation_prompt=True,  # Necessary for generation\n",
        "    return_tensors=\"pt\",  # Returns tensors for PyTorch\n",
        ").to(\"cuda\")  # Make sure the tensors are moved to GPU for faster inference\n",
        "\n",
        "# Step 4: Stream the generated output\n",
        "from transformers import TextStreamer\n",
        "text_streamer = TextStreamer(tokenizer, skip_prompt=True)\n",
        "\n",
        "# Generate the output based on the input prompt\n",
        "_ = model.generate(\n",
        "    input_ids=inputs,\n",
        "    streamer=text_streamer,  # Stream the text while generating\n",
        "    max_new_tokens=128,  # Set a limit for how much text to generate\n",
        "    use_cache=True,\n",
        "    temperature=1.5,  # Control creativity (higher temperature = more creative)\n",
        "    min_p=0.1  # Nucleus sampling threshold to adjust randomness\n",
        ")"
      ],
      "metadata": {
        "id": "NGCfr0U3kwVF"
      },
      "execution_count": null,
      "outputs": []
    }
  ]
}