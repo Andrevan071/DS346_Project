{
  "nbformat": 4,
  "nbformat_minor": 0,
  "metadata": {
    "colab": {
      "provenance": [],
      "gpuType": "V28"
    },
    "kernelspec": {
      "name": "python3",
      "display_name": "Python 3"
    },
    "language_info": {
      "name": "python"
    },
    "accelerator": "TPU"
  },
  "cells": [
    {
      "cell_type": "code",
      "execution_count": null,
      "metadata": {
        "id": "m0iKrqYHQibg"
      },
      "outputs": [],
      "source": [
        "# Install TPU support for PyTorch\n",
        "!pip install torch_xla torch==2.0\n",
        "\n",
        "# TPU Imports\n",
        "import torch_xla\n",
        "import torch_xla.core.xla_model as xm\n",
        "import torch_xla.distributed.xla_multiprocessing as xmp\n",
        "\n",
        "from unsloth import FastLanguageModel\n",
        "import torch\n",
        "\n",
        "# Set up TPU device\n",
        "device = xm.xla_device()\n"
      ]
    },
    {
      "cell_type": "code",
      "source": [
        "# Load Model and Tokenizer\n",
        "max_seq_length = 2048 # Choose any!\n",
        "dtype = None # None for auto detection. BFloat16 for TPUs is better\n",
        "load_in_4bit = False # TPU does not benefit from 4-bit quantization.\n",
        "\n",
        "model, tokenizer = FastLanguageModel.from_pretrained(\n",
        "    model_name = \"unsloth/Llama-3.2-3B-Instruct\", # or your custom model\n",
        "    max_seq_length = max_seq_length,\n",
        "    dtype = dtype,\n",
        "    load_in_4bit = load_in_4bit,\n",
        ")\n",
        "\n",
        "# Move model to TPU\n",
        "model.to(device)\n",
        "\n",
        "# LoRA fine-tuning setup for TPU\n",
        "model = FastLanguageModel.get_peft_model(\n",
        "    model,\n",
        "    r = 16, # Number of LoRA attention heads\n",
        "    target_modules = [\"q_proj\", \"k_proj\", \"v_proj\", \"o_proj\", \"gate_proj\", \"up_proj\", \"down_proj\",],\n",
        "    lora_alpha = 16,\n",
        "    lora_dropout = 0, # No dropout\n",
        "    bias = \"none\",\n",
        "    use_gradient_checkpointing = \"unsloth\",\n",
        "    random_state = 3407,\n",
        "    use_rslora = False,\n",
        "    loftq_config = None,\n",
        ")\n"
      ],
      "metadata": {
        "id": "ezf7eUxRST2U"
      },
      "execution_count": null,
      "outputs": []
    },
    {
      "cell_type": "code",
      "source": [
        "# Tokenizer and chat template setup\n",
        "from unsloth.chat_templates import get_chat_template\n",
        "\n",
        "tokenizer = get_chat_template(\n",
        "    tokenizer,\n",
        "    chat_template = \"llama-3.1\",\n",
        ")\n",
        "\n",
        "# Formatting function for dataset\n",
        "def formatting_prompts_func(examples):\n",
        "    convos = examples[\"conversations\"]\n",
        "    texts = [tokenizer.apply_chat_template(convo, tokenize = False, add_generation_prompt = False) for convo in convos]\n",
        "    return { \"text\" : texts }\n",
        "\n",
        "# Load dataset (JSON format)\n",
        "from datasets import load_dataset\n",
        "dataset = load_dataset('json', data_files='/content/processed_data.json', split='train')\n",
        "\n",
        "# Optional standardization if needed\n",
        "from unsloth.chat_templates import standardize_sharegpt\n",
        "dataset = standardize_sharegpt(dataset)\n",
        "dataset = dataset.map(formatting_prompts_func, batched=True)\n"
      ],
      "metadata": {
        "id": "HDZA20qFSYg8"
      },
      "execution_count": null,
      "outputs": []
    },
    {
      "cell_type": "code",
      "source": [
        "# Show samples from dataset\n",
        "dataset[5][\"conversations\"]\n",
        "dataset[5][\"text\"]\n"
      ],
      "metadata": {
        "id": "A537JklWSdQS"
      },
      "execution_count": null,
      "outputs": []
    },
    {
      "cell_type": "code",
      "source": [
        "# TPU-compatible Training Setup\n",
        "from trl import SFTTrainer\n",
        "from transformers import TrainingArguments, DataCollatorForSeq2Seq\n",
        "from unsloth import is_bfloat16_supported\n",
        "\n",
        "trainer = SFTTrainer(\n",
        "    model=model,  # LLaMA model for fine-tuning\n",
        "    tokenizer=tokenizer,  # Tokenizer for processing text data\n",
        "    train_dataset=dataset,  # Training dataset (Q&A pairs)\n",
        "    dataset_text_field=\"text\",  # Field name in dataset containing text\n",
        "    max_seq_length=max_seq_length,  # Max sequence length (number of tokens)\n",
        "    data_collator=DataCollatorForSeq2Seq(tokenizer=tokenizer),  # Collates batches for seq2seq tasks\n",
        "    dataset_num_proc=2,  # Number of processes to speed up data loading\n",
        "    packing=False,  # Don't pack short sequences together\n",
        "    args=TrainingArguments(\n",
        "        per_device_train_batch_size=8,  # Larger batch size for TPU\n",
        "        gradient_accumulation_steps=4,  # Accumulate gradients for larger effective batch size\n",
        "        warmup_steps=5,  # Warmup steps to gradually increase the learning rate\n",
        "        num_train_epochs=1,  # Set this for 1 full training run\n",
        "        learning_rate=2e-4,  # Initial learning rate\n",
        "        bf16=True,  # Use bfloat16 (optimal for TPU)\n",
        "        logging_steps=1,  # Log metrics every step\n",
        "        optim=\"adamw_torch_xla\",  # Optimizer for TPU\n",
        "        weight_decay=0.01,  # Weight decay to prevent overfitting\n",
        "        lr_scheduler_type=\"linear\",  # Learning rate schedule: linear decay\n",
        "        seed=3407,  # Set seed for reproducibility\n",
        "        output_dir=\"outputs\",  # Directory to save model checkpoints and logs\n",
        "        tpu_num_cores=8,  # TPU cores for distributed training\n",
        "    ),\n",
        ")\n"
      ],
      "metadata": {
        "id": "YI49X0KwShji"
      },
      "execution_count": null,
      "outputs": []
    },
    {
      "cell_type": "code",
      "source": [
        "# Train only on responses (can be customized based on your dataset)\n",
        "from unsloth.chat_templates import train_on_responses_only\n",
        "trainer = train_on_responses_only(\n",
        "    trainer,\n",
        "    instruction_part = \"<|start_header_id|>user<|end_header_id|>\\n\\n\",\n",
        "    response_part = \"<|start_header_id|>assistant<|end_header_id|>\\n\\n\",\n",
        ")\n",
        "\n"
      ],
      "metadata": {
        "id": "2RHK7GwdSlE2"
      },
      "execution_count": null,
      "outputs": []
    },
    {
      "cell_type": "code",
      "source": [
        "# Train model on TPU\n",
        "trainer_stats = trainer.train()\n"
      ],
      "metadata": {
        "id": "5TlO6nkwSnUG"
      },
      "execution_count": null,
      "outputs": []
    },
    {
      "cell_type": "code",
      "source": [
        "# For inference, move model back to TPU\n",
        "FastLanguageModel.for_inference(model)\n",
        "\n",
        "# Inference setup with TPU\n",
        "prompt = \"What is the difference between data science and data engineering?\"\n",
        "\n",
        "messages = [\n",
        "    {\"role\": \"user\", \"content\": prompt},\n",
        "]\n",
        "inputs = tokenizer.apply_chat_template(\n",
        "    messages,\n",
        "    tokenize = True,\n",
        "    add_generation_prompt = True,  # Necessary for generation\n",
        "    return_tensors = \"pt\",\n",
        ").to(device)  # Move input to TPU\n",
        "\n",
        "from transformers import TextStreamer\n",
        "text_streamer = TextStreamer(tokenizer, skip_prompt=True)\n",
        "_ = model.generate(input_ids=inputs, streamer=text_streamer, max_new_tokens=128,\n",
        "                   use_cache=True, temperature=1.5, min_p=0.1)\n"
      ],
      "metadata": {
        "id": "tmyUZZorSqBH"
      },
      "execution_count": null,
      "outputs": []
    },
    {
      "cell_type": "code",
      "source": [
        "# Save model and tokenizer\n",
        "model.save_pretrained(\"lora_model\")  # Save model locally in Colab\n",
        "tokenizer.save_pretrained(\"lora_model\")\n",
        "\n",
        "# Zip and download model\n",
        "!zip -r lora_model.zip lora_model/\n",
        "from google.colab import files\n",
        "files.download(\"lora_model.zip\")"
      ],
      "metadata": {
        "id": "9zd4rAvtSucK"
      },
      "execution_count": null,
      "outputs": []
    }
  ]
}