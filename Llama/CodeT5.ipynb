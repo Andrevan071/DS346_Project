{
 "cells": [
  {
   "cell_type": "code",
   "execution_count": 4,
   "metadata": {},
   "outputs": [
    {
     "name": "stdout",
     "output_type": "stream",
     "text": [
      "Question: What is Artificial Intelligence?\n",
      "Generated Answer: Artificial Intelligence\n"
     ]
    },
    {
     "ename": "",
     "evalue": "",
     "output_type": "error",
     "traceback": [
      "\u001b[1;31mThe Kernel crashed while executing code in the current cell or a previous cell. \n",
      "\u001b[1;31mPlease review the code in the cell(s) to identify a possible cause of the failure. \n",
      "\u001b[1;31mClick <a href='https://aka.ms/vscodeJupyterKernelCrash'>here</a> for more info. \n",
      "\u001b[1;31mView Jupyter <a href='command:jupyter.viewOutput'>log</a> for further details."
     ]
    }
   ],
   "source": [
    "# Import necessary libraries from Hugging Face Transformers\n",
    "from transformers import T5Tokenizer, T5ForConditionalGeneration\n",
    "\n",
    "# Load the pre-trained T5 model and tokenizer\n",
    "model = T5ForConditionalGeneration.from_pretrained(\"t5-base\")\n",
    "tokenizer = T5Tokenizer.from_pretrained(\"t5-base\")\n",
    "\n",
    "# Define your input question\n",
    "input_question = \"What is Artificial Intelligence?\"\n",
    "\n",
    "# Explicitly mention the task to T5 using 'question: ' prefix\n",
    "input_text = \"question: \" + input_question\n",
    "\n",
    "# Tokenize the input text without adding special tokens manually\n",
    "inputs = tokenizer(input_text, return_tensors=\"pt\")\n",
    "\n",
    "# Generate the answer using the T5 model, adjusting the parameters\n",
    "output_ids = model.generate(\n",
    "    inputs.input_ids, \n",
    "    max_length=50,        # Adjust maximum length for more concise answers\n",
    "    num_beams=5,          # Adjust beam search for better results\n",
    "    early_stopping=True,  # Stop when the model is confident about the answer\n",
    "    repetition_penalty=2.0  # Avoid repetition of words in the output\n",
    ")\n",
    "\n",
    "# Decode the output\n",
    "answer = tokenizer.decode(output_ids[0], skip_special_tokens=True)\n",
    "\n",
    "# Print out the original question and generated answer for debugging\n",
    "print(f\"Question: {input_question}\")\n",
    "print(f\"Generated Answer: {answer}\")\n"
   ]
  },
  {
   "cell_type": "code",
   "execution_count": null,
   "metadata": {},
   "outputs": [],
   "source": []
  },
  {
   "cell_type": "code",
   "execution_count": null,
   "metadata": {},
   "outputs": [],
   "source": []
  }
 ],
 "metadata": {
  "kernelspec": {
   "display_name": "base",
   "language": "python",
   "name": "python3"
  },
  "language_info": {
   "codemirror_mode": {
    "name": "ipython",
    "version": 3
   },
   "file_extension": ".py",
   "mimetype": "text/x-python",
   "name": "python",
   "nbconvert_exporter": "python",
   "pygments_lexer": "ipython3",
   "version": "3.9.12"
  }
 },
 "nbformat": 4,
 "nbformat_minor": 2
}
